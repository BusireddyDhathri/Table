{
 "cells": [
  {
   "cell_type": "code",
   "execution_count": 2,
   "id": "0d8a0fef",
   "metadata": {},
   "outputs": [
    {
     "name": "stdout",
     "output_type": "stream",
     "text": [
      "Entropy for age: 0.6935361388961918\n",
      "Entropy for income: 0.9110633930116763\n",
      "Entropy for student: 0.7884504573082896\n",
      "Entropy for credit_rating: 0.8921589282623617\n"
     ]
    }
   ],
   "source": [
    "import math\n",
    "import pandas as pd\n",
    "df=pd.read_excel(r\"C:\\Users\\ADMIN DELL\\Downloads\\Entropy.xlsx\")\n",
    "def calculate_entropy_for_attribute(data, attribute_index):\n",
    "    attribute_values=set(data.iloc[:, attribute_index])\n",
    "    entropy = 0.0\n",
    "    for value in attribute_values:\n",
    "        subset=data[data.iloc[:, attribute_index]==value]\n",
    "        total_samples=len(subset)\n",
    "        class_counts=subset['buys_computer'].value_counts()\n",
    "        value_entropy = 0.0\n",
    "        for count in class_counts:\n",
    "            probability=count/total_samples\n",
    "            value_entropy=value_entropy-probability*math.log2(probability)\n",
    "        weight=total_samples/len(data)\n",
    "        entropy=entropy+weight * value_entropy\n",
    "    return entropy\n",
    "num_attributes=len(df.columns) - 1\n",
    "entropies=[]\n",
    "for i in range(num_attributes):\n",
    "    entropy=calculate_entropy_for_attribute(df, i)\n",
    "    entropies.append(entropy)\n",
    "attribute_names = df.columns[:-1] \n",
    "for i in range(num_attributes):\n",
    "    print(f\"Entropy for {attribute_names[i]}: {entropies[i]}\")"
   ]
  },
  {
   "cell_type": "code",
   "execution_count": 3,
   "id": "410848f7",
   "metadata": {},
   "outputs": [
    {
     "name": "stdout",
     "output_type": "stream",
     "text": [
      "The first feature for constructing the decision tree is = age\n"
     ]
    }
   ],
   "source": [
    "root_feature_index=entropies.index(min(entropies))\n",
    "root_feature_name=attribute_names[root_feature_index]\n",
    "print(f\"The first feature for constructing the decision tree is = {root_feature_name}\")"
   ]
  },
  {
   "cell_type": "code",
   "execution_count": 4,
   "id": "05b22249",
   "metadata": {},
   "outputs": [
    {
     "name": "stdout",
     "output_type": "stream",
     "text": [
      "Defaulting to user installation because normal site-packages is not writeable\n",
      "Requirement already satisfied: scikit-learn in c:\\programdata\\anaconda3\\lib\\site-packages (1.3.0)\n",
      "Requirement already satisfied: numpy>=1.17.3 in c:\\programdata\\anaconda3\\lib\\site-packages (from scikit-learn) (1.24.3)\n",
      "Requirement already satisfied: scipy>=1.5.0 in c:\\programdata\\anaconda3\\lib\\site-packages (from scikit-learn) (1.10.1)\n",
      "Requirement already satisfied: joblib>=1.1.1 in c:\\programdata\\anaconda3\\lib\\site-packages (from scikit-learn) (1.2.0)\n",
      "Requirement already satisfied: threadpoolctl>=2.0.0 in c:\\programdata\\anaconda3\\lib\\site-packages (from scikit-learn) (2.2.0)\n",
      "Note: you may need to restart the kernel to use updated packages.\n"
     ]
    }
   ],
   "source": [
    "pip install scikit-learn"
   ]
  },
  {
   "cell_type": "code",
   "execution_count": 9,
   "id": "e923cf42",
   "metadata": {},
   "outputs": [
    {
     "name": "stdout",
     "output_type": "stream",
     "text": [
      "The depth of the constructed decision tree is = 4\n"
     ]
    }
   ],
   "source": [
    "from sklearn.tree import DecisionTreeClassifier\n",
    "from sklearn.preprocessing import LabelEncoder\n",
    "x=df.drop(columns=['buys_computer'])\n",
    "y=df['buys_computer']\n",
    "x_encoded=pd.get_dummies(X)\n",
    "clf=DecisionTreeClassifier()\n",
    "clf.fit(x_encoded, y)\n",
    "tree_depth = clf.get_depth()\n",
    "print(f\"The depth of the constructed decision tree is = {tree_depth}\")"
   ]
  },
  {
   "cell_type": "code",
   "execution_count": null,
   "id": "61810c5e",
   "metadata": {},
   "outputs": [],
   "source": []
  }
 ],
 "metadata": {
  "kernelspec": {
   "display_name": "Python 3 (ipykernel)",
   "language": "python",
   "name": "python3"
  },
  "language_info": {
   "codemirror_mode": {
    "name": "ipython",
    "version": 3
   },
   "file_extension": ".py",
   "mimetype": "text/x-python",
   "name": "python",
   "nbconvert_exporter": "python",
   "pygments_lexer": "ipython3",
   "version": "3.11.4"
  }
 },
 "nbformat": 4,
 "nbformat_minor": 5
}
